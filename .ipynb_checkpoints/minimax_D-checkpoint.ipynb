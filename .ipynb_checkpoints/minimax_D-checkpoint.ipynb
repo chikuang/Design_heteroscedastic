{
 "cells": [
  {
   "cell_type": "markdown",
   "id": "fbc6340b-2cf5-4ba5-a335-918fe244227d",
   "metadata": {},
   "source": [
    "# Reproducible code for Example 2 in Minimax optimal designs via particle swarm optimization methods\n",
    "by Ray-Bing Chen et al. (2015)"
   ]
  },
  {
   "cell_type": "code",
   "execution_count": 2,
   "id": "dcee8e99-13ae-4f06-835b-f1d13c6f31b4",
   "metadata": {},
   "outputs": [
    {
     "name": "stdout",
     "output_type": "stream",
     "text": [
      "Minimax D-optimal design:\n",
      "     x  weight\n",
      "0 -0.5  0.0769\n",
      "1 -0.4  0.1690\n",
      "2  0.6  0.2540\n",
      "3  1.9  0.2540\n",
      "4  2.9  0.1690\n",
      "5  3.0  0.0769\n"
     ]
    }
   ],
   "source": [
    "import numpy as np\n",
    "import cvxpy as cp\n",
    "from itertools import product\n",
    "import pandas as pd\n",
    "\n",
    "# === Parameter settings ===\n",
    "p = 2\n",
    "N = 51\n",
    "x_vals = np.linspace(-1, 4, N)\n",
    "Theta0 = np.linspace(0, 2.5, 11)  # a values\n",
    "Theta1 = np.linspace(1, 3, 11)    # b values\n",
    "theta_grid = np.array(list(product(Theta0, Theta1)))  # All (a,b) combinations\n",
    "\n",
    "num_theta = theta_grid.shape[0]\n",
    "\n",
    "# === Precompute Fisher information matrices for each θ and x ===\n",
    "I_list = []\n",
    "for k in range(num_theta):\n",
    "    a = theta_grid[k, 0]\n",
    "    b = theta_grid[k, 1]\n",
    "    I_k = np.zeros((p, p, N))\n",
    "\n",
    "    for i in range(N):\n",
    "        x = x_vals[i]\n",
    "        eta = b * (x - a)\n",
    "        pval = 1 / (1 + np.exp(-eta))\n",
    "        d = pval * (1 - pval)\n",
    "\n",
    "        I_k[:, :, i] = d * np.array([[b**2, -b * (x - a)], [-b * (x - a), (x - a)**2]])\n",
    "    I_list.append(I_k)\n",
    "\n",
    "# === CVXPY Optimization: minimize the worst-case -logdet ===\n",
    "w = cp.Variable(N)\n",
    "t = cp.Variable()\n",
    "\n",
    "constraints = [w >= 0, cp.sum(w) == 1]\n",
    "for k in range(num_theta):\n",
    "    M = sum(w[i] * I_list[k][:, :, i] for i in range(N))\n",
    "    constraints.append(t >= -cp.log_det(M))\n",
    "\n",
    "prob = cp.Problem(cp.Minimize(t), constraints)\n",
    "if 'MOSEK' in cp.installed_solvers():\n",
    "    prob.solve(solver = cp.MOSEK, verbose = False)\n",
    "else:\n",
    "    prob.solve(solver=cp.SCS, eps=1e-9, max_iters=50000, verbose=False)\n",
    "\n",
    "# === Output support points and weights ===\n",
    "w_opt = w.value\n",
    "support_idx = np.where(w_opt > 1e-4)[0]\n",
    "x_out = np.round(x_vals[support_idx], 4)\n",
    "w_out = np.round(w_opt[support_idx], 4)\n",
    "\n",
    "print(\"Minimax D-optimal design:\")\n",
    "print(pd.DataFrame({'x': x_out, 'weight': w_out}))"
   ]
  },
  {
   "cell_type": "code",
   "execution_count": null,
   "id": "b07776bb-3f35-4cc8-b062-0071f12ba47a",
   "metadata": {},
   "outputs": [],
   "source": []
  }
 ],
 "metadata": {
  "kernelspec": {
   "display_name": "Python 3 (ipykernel)",
   "language": "python",
   "name": "python3"
  },
  "language_info": {
   "codemirror_mode": {
    "name": "ipython",
    "version": 3
   },
   "file_extension": ".py",
   "mimetype": "text/x-python",
   "name": "python",
   "nbconvert_exporter": "python",
   "pygments_lexer": "ipython3",
   "version": "3.13.5"
  }
 },
 "nbformat": 4,
 "nbformat_minor": 5
}
