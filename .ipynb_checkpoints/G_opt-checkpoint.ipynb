{
 "cells": [
  {
   "cell_type": "markdown",
   "id": "108cd6fa-00ce-4464-9005-c657769d794a",
   "metadata": {},
   "source": [
    "# Optimal design for heteroscedastic polynomial models:\n",
    "\n",
    "Given a compact design space $\\mathcal{X}$ that have the form \n",
    "$$\n",
    "    y(x)=g^\\top(x) \\beta+ \\frac{e(x)}{\\sqrt{\\lambda(x)}}\n",
    "$$\n"
   ]
  },
  {
   "cell_type": "code",
   "execution_count": 9,
   "id": "7d09403c-1284-4c87-a439-07f098c06a84",
   "metadata": {},
   "outputs": [],
   "source": [
    "# Init\n",
    "import numpy as np\n",
    "import cvxpy as cp\n",
    "import pandas as pd\n",
    "from tabulate import tabulate\n",
    "# === Settings ===\n",
    "def g(x):\n",
    "    return np.array([1, x, x**2])\n",
    "\n",
    "def lambda_fn(x):\n",
    "    return 2 * x + 5\n",
    "    # return 1  # for homoscedastic case"
   ]
  },
  {
   "cell_type": "markdown",
   "id": "6f5ee84b-042c-4f9a-a63f-504af63ad753",
   "metadata": {},
   "source": [
    "## Case (a): The extrapolation set $\\mathcal{Z}$ is the same as the design set $\\mathcal{X}$\n",
    "\n",
    "Since both sets are the same, $\\mathcal{Z}=\\mathcal{X}$, this minimax design is called the **G-optimal design**."
   ]
  },
  {
   "cell_type": "code",
   "execution_count": 18,
   "id": "8c216d64-b375-493b-812a-99dc97dc8cb1",
   "metadata": {},
   "outputs": [
    {
     "name": "stdout",
     "output_type": "stream",
     "text": [
      "Optimal design is:\n",
      "       x  weight\n",
      "0 -1.000   0.495\n",
      "1  0.072   0.293\n",
      "2  1.000   0.212\n"
     ]
    }
   ],
   "source": [
    "N = 1001\n",
    "x_vals = np.linspace(-1, 1, N)\n",
    "p = 3\n",
    "\n",
    "# Precompute g(x) and lambda(x)\n",
    "g_list = [g(x) for x in x_vals]\n",
    "lambda_vals = np.array([lambda_fn(x) for x in x_vals])\n",
    "\n",
    "# === Precompute G_tensor for vectorized M ===\n",
    "G_tensor = np.zeros((p, p, N))\n",
    "for i in range(N):\n",
    "    G_tensor[:, :, i] = lambda_vals[i] * np.outer(g_list[i], g_list[i])\n",
    "\n",
    "# === Solve G-optimal design via CVXPY ===\n",
    "w = cp.Variable(N)\n",
    "t = cp.Variable()\n",
    "M = cp.Variable((p, p), PSD=True)\n",
    "\n",
    "constraints = [\n",
    "    cp.sum(w) == 1,\n",
    "    w >= 0,\n",
    "    M >> 1e-6 * np.eye(p),\n",
    "    M == cp.sum([w[i] * G_tensor[:, :, i] for i in range(N)])\n",
    "]\n",
    "\n",
    "# Use Schur complement to replace matrix_frac(g, M) <= t\n",
    "for i in range(N):\n",
    "    gx = g_list[i]\n",
    "    Gx = gx.reshape(-1, 1)\n",
    "    schur_mat = cp.bmat([\n",
    "        [cp.reshape(t, (1, 1), order='F'), Gx.T],\n",
    "        [Gx, M]\n",
    "    ])\n",
    "    constraints.append(schur_mat >> 0)\n",
    "\n",
    "# Solve the problem\n",
    "prob = cp.Problem(cp.Minimize(t), constraints)\n",
    "if 'MOSEK' in cp.installed_solvers():\n",
    "    prob.solve(solver=cp.MOSEK, verbose=False)\n",
    "else:\n",
    "    prob.solve(solver=cp.SCS, eps=1e-9, max_iters=50000, verbose=False)\n",
    "\n",
    "w_val = w.value\n",
    "\n",
    "# === Output support points ===\n",
    "threshold = 1e-3\n",
    "support_idx = np.where(w_val > threshold)[0]\n",
    "x_out = np.round(x_vals[support_idx], 3)\n",
    "w_out = np.round(w_val[support_idx], 3)\n",
    "\n",
    "support_table = pd.DataFrame({'x': x_out, 'weight': w_out})\n",
    "print(\"Optimal design is:\")\n",
    "print(support_table)"
   ]
  },
  {
   "cell_type": "markdown",
   "id": "281f2dcf-68f9-4344-a93d-43d087bd06ce",
   "metadata": {},
   "source": [
    "## Case (b): Extrapolation\n",
    "Now the $\\mathcal{X}=[-1,1]$ and $\\mathcal{Z}=[1,1.2]$ (extrapolation area). In this case, the prediction/extrapolation area is outside the design region $\\mathcal{X}$"
   ]
  },
  {
   "cell_type": "code",
   "execution_count": 17,
   "id": "a58284bd-8a42-4bfa-b847-f65071224739",
   "metadata": {
    "scrolled": true
   },
   "outputs": [
    {
     "name": "stdout",
     "output_type": "stream",
     "text": [
      "Optimal design is:\n",
      "     x  weight\n",
      "0 -1.0   0.076\n",
      "1  0.1   0.256\n",
      "2  1.0   0.668\n"
     ]
    }
   ],
   "source": [
    "def g(x):\n",
    "    return np.array([1, x, x**2])\n",
    "\n",
    "def lambda_fn(x):\n",
    "    return 2 * x + 5\n",
    "\n",
    "N = 1001\n",
    "x_vals = np.linspace(-1, 1, N)  # Design region X = [-1, 1]\n",
    "p = 3\n",
    "\n",
    "# === Precompute design side ===\n",
    "g_list = [g(x) for x in x_vals]\n",
    "lambda_vals = np.array([lambda_fn(x) for x in x_vals])\n",
    "\n",
    "G_tensor = np.zeros((p, p, N))\n",
    "for i in range(N):\n",
    "    G_tensor[:, :, i] = lambda_vals[i] * np.outer(g_list[i], g_list[i])\n",
    "\n",
    "# === Define extrapolation region Z = [1, 1.2] ===\n",
    "z_vals = np.linspace(1, 1.2, 100)\n",
    "gz_list = [g(z) for z in z_vals]\n",
    "\n",
    "# === Solve extrapolated G-optimal design via CVXPY ===\n",
    "w = cp.Variable(N)\n",
    "t = cp.Variable()\n",
    "M = cp.Variable((p, p), PSD=True)\n",
    "\n",
    "constraints = [\n",
    "    cp.sum(w) == 1,\n",
    "    w >= 0,\n",
    "    M >> 1e-6 * np.eye(p),\n",
    "    M == cp.sum([w[i] * G_tensor[:, :, i] for i in range(N)])\n",
    "]\n",
    "\n",
    "# === Apply Schur complement condition over Z ===\n",
    "for gz in gz_list:\n",
    "    Gz = gz.reshape(-1, 1)\n",
    "    schur_mat = cp.bmat([\n",
    "        [cp.reshape(t, (1, 1), order='F'), Gz.T],\n",
    "        [Gz, M]\n",
    "    ])\n",
    "    constraints.append(schur_mat >> 0)\n",
    "\n",
    "# === Solve the problem ===\n",
    "prob = cp.Problem(cp.Minimize(t), constraints)\n",
    "if 'MOSEK' in cp.installed_solvers():\n",
    "    prob.solve(solver=cp.MOSEK, verbose=False)\n",
    "else:\n",
    "    prob.solve(solver=cp.SCS, eps=1e-9, max_iters=50000, verbose=False)\n",
    "\n",
    "w_val = w.value\n",
    "\n",
    "# === Output support points ===\n",
    "threshold = 1e-3\n",
    "support_idx = np.where(w_val > threshold)[0]\n",
    "x_out = np.round(x_vals[support_idx], 3)\n",
    "w_out = np.round(w_val[support_idx], 3)\n",
    "\n",
    "support_table_b = pd.DataFrame({'x': x_out, 'weight': w_out})\n",
    "print(\"Optimal design is:\")\n",
    "print(support_table_b)"
   ]
  },
  {
   "cell_type": "code",
   "execution_count": 12,
   "id": "cde48268-b9a0-41e8-97e8-e977a9fe11d2",
   "metadata": {},
   "outputs": [
    {
     "name": "stdout",
     "output_type": "stream",
     "text": [
      "The resulting optimal design is:\n",
      "\n",
      "|    x |   weight |\n",
      "|------|----------|\n",
      "| -1   |    0.076 |\n",
      "|  0.1 |    0.256 |\n",
      "|  1   |    0.668 |\n"
     ]
    }
   ],
   "source": [
    "md_table_b = tabulate(support_table_b.round(3), headers='keys', tablefmt='github', showindex=False)\n",
    "print(\"The resulting optimal design is:\\n\")\n",
    "print(md_table_b)"
   ]
  },
  {
   "cell_type": "code",
   "execution_count": null,
   "id": "606165e6-cc23-4674-a3f1-19b8d72fd912",
   "metadata": {},
   "outputs": [],
   "source": []
  }
 ],
 "metadata": {
  "kernelspec": {
   "display_name": "Python 3 (ipykernel)",
   "language": "python",
   "name": "python3"
  },
  "language_info": {
   "codemirror_mode": {
    "name": "ipython",
    "version": 3
   },
   "file_extension": ".py",
   "mimetype": "text/x-python",
   "name": "python",
   "nbconvert_exporter": "python",
   "pygments_lexer": "ipython3",
   "version": "3.13.5"
  }
 },
 "nbformat": 4,
 "nbformat_minor": 5
}
