{
 "cells": [
  {
   "cell_type": "code",
   "execution_count": 8,
   "id": "8c216d64-b375-493b-812a-99dc97dc8cb1",
   "metadata": {},
   "outputs": [
    {
     "name": "stdout",
     "output_type": "stream",
     "text": [
      "Support points and weights:\n",
      "      x  weight\n",
      "0 -1.00   0.495\n",
      "1  0.07   0.293\n",
      "2  1.00   0.212\n"
     ]
    }
   ],
   "source": [
    "import numpy as np\n",
    "import cvxpy as cp\n",
    "import pandas as pd\n",
    "\n",
    "# === Settings ===\n",
    "def g(x):\n",
    "    return np.array([1, x, x**2])\n",
    "\n",
    "def lambda_fn(x):\n",
    "    return 2 * x + 5\n",
    "    # return 1  # for homoscedastic case\n",
    "\n",
    "N = 201\n",
    "x_vals = np.linspace(-1, 1, N)\n",
    "p = 3\n",
    "\n",
    "# Precompute g(x) and lambda(x)\n",
    "g_list = [g(x) for x in x_vals]\n",
    "lambda_vals = np.array([lambda_fn(x) for x in x_vals])\n",
    "\n",
    "# === Precompute G_tensor for vectorized M ===\n",
    "G_tensor = np.zeros((p, p, N))\n",
    "for i in range(N):\n",
    "    G_tensor[:, :, i] = lambda_vals[i] * np.outer(g_list[i], g_list[i])\n",
    "\n",
    "# === Solve G-optimal design via CVXPY ===\n",
    "w = cp.Variable(N)\n",
    "t = cp.Variable()\n",
    "M = cp.Variable((p, p), PSD=True)\n",
    "\n",
    "constraints = [\n",
    "    cp.sum(w) == 1,\n",
    "    w >= 0,\n",
    "    M >> 1e-6 * np.eye(p),\n",
    "    M == cp.sum([w[i] * G_tensor[:, :, i] for i in range(N)])\n",
    "]\n",
    "\n",
    "# Use Schur complement to replace matrix_frac(g, M) <= t\n",
    "for i in range(N):\n",
    "    gx = g_list[i]\n",
    "    Gx = gx.reshape(-1, 1)\n",
    "    schur_mat = cp.bmat([\n",
    "        [cp.reshape(t, (1, 1), order='F'), Gx.T],\n",
    "        [Gx, M]\n",
    "    ])\n",
    "    constraints.append(schur_mat >> 0)\n",
    "\n",
    "# Solve the problem\n",
    "prob = cp.Problem(cp.Minimize(t), constraints)\n",
    "if 'MOSEK' in cp.installed_solvers():\n",
    "    prob.solve(solver=cp.MOSEK, verbose=False)\n",
    "else:\n",
    "    prob.solve(solver=cp.SCS, eps=1e-9, max_iters=50000, verbose=False)\n",
    "\n",
    "w_val = w.value\n",
    "\n",
    "# === Output support points ===\n",
    "threshold = 1e-3\n",
    "support_idx = np.where(w_val > threshold)[0]\n",
    "x_out = np.round(x_vals[support_idx], 3)\n",
    "w_out = np.round(w_val[support_idx], 3)\n",
    "\n",
    "support_table = pd.DataFrame({'x': x_out, 'weight': w_out})\n",
    "print(\"Support points and weights:\")\n",
    "print(support_table)"
   ]
  }
 ],
 "metadata": {
  "kernelspec": {
   "display_name": "Python 3 (ipykernel)",
   "language": "python",
   "name": "python3"
  },
  "language_info": {
   "codemirror_mode": {
    "name": "ipython",
    "version": 3
   },
   "file_extension": ".py",
   "mimetype": "text/x-python",
   "name": "python",
   "nbconvert_exporter": "python",
   "pygments_lexer": "ipython3",
   "version": "3.13.5"
  }
 },
 "nbformat": 4,
 "nbformat_minor": 5
}
